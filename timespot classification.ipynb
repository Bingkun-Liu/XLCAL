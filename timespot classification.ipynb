{
 "cells": [
  {
   "cell_type": "code",
   "execution_count": 1,
   "id": "cf051298-dda0-4445-b94a-195e2619b421",
   "metadata": {},
   "outputs": [
    {
     "name": "stdout",
     "output_type": "stream",
     "text": [
      "/grad/ephraimgau/xlcalflightsoftware/source/core/src/core/XLoggingSystem.cpp:377: \u001b[0mDEBUG\u001b[0m: Reading logging configuration from /grad/ephraimgau/xlcalflightsoftware/install-debug/share/xlcalibur/conf/logging.conf\u001b[0m\n",
      "/grad/ephraimgau/xlcalflightsoftware/source/core/src/core/XLoggingSystem.cpp:377: \u001b[0mDEBUG\u001b[0m: Reading logging configuration from logging.conf\u001b[0m\n"
     ]
    }
   ],
   "source": [
    "from xlcalibur import dataclasses, housekeeping, dataaccess \n",
    "from xlcalibur.xcom import Packets\n",
    "from xlcalibur.systems import Systems\n",
    "import numpy as np\n",
    "import pandas as pd\n",
    "from matplotlib import pyplot as plt\n",
    "%matplotlib inline\n",
    "import os"
   ]
  },
  {
   "cell_type": "code",
   "execution_count": 2,
   "id": "fbb45e46-cc34-4586-b4e4-ee9365c31473",
   "metadata": {},
   "outputs": [],
   "source": [
    "def analyze_file(n):\n",
    "    filepath = f\"/data/xlcal/data/2024_convData-P-ns/Run{n:06d}.dat\"\n",
    "    print(f\"read file Run{n:06d}.dat\")\n",
    "\n",
    "    infile = dataclasses.XDataFile(filepath)\n",
    "\n",
    "    all_alignment = [p.Deserialize() for p in infile.Scan(Packets.X_PKT_ALIGNMENT_DATA)]\n",
    "    \n",
    "    good_alignment = [p for p in all_alignment if p.fit_valid]\n",
    "    valid_alignment = [p for p in good_alignment if np.isfinite(p.center_x) and np.isfinite(p.center_y) and p.scale != 0]\n",
    "\n",
    "    if not valid_alignment:\n",
    "        print(f\" Run{n:06d} empty, skip\")\n",
    "        return None\n",
    "\n",
    "    meanx = np.average([a.center_x for a in valid_alignment])\n",
    "    meany = np.average([a.center_y for a in valid_alignment])\n",
    "    t0 = valid_alignment[0].time.to_mjd()\n",
    "    tdata = [86400 * (a.time.to_mjd() - t0) for a in valid_alignment]\n",
    "    xdata = [(a.center_x - meanx) / a.scale for a in valid_alignment]\n",
    "    ydata = [(a.center_y - meany) / a.scale for a in valid_alignment]\n",
    "    rotation_data = [a.angle * 180 / np.pi for a in valid_alignment]\n",
    "    mjd_times = np.array(tdata) / 86400 + t0\n",
    "\n",
    "    case1, case2, case3 = [], [], []\n",
    "\n",
    "    for i in range(len(xdata)):\n",
    "        x = xdata[i]\n",
    "        y = ydata[i]\n",
    "        t = rotation_data[i]\n",
    "        mjd = mjd_times[i]\n",
    "\n",
    "        if abs(x) < 2 and abs(y) < 2:\n",
    "            case1.append(mjd)\n",
    "        elif x > 2 and abs(y) < 2:\n",
    "            case2.append(mjd)\n",
    "        elif x < -2 and abs(y) < 2:\n",
    "            case3.append(mjd)\n",
    "\n",
    "    return case1, case2, case3"
   ]
  },
  {
   "cell_type": "code",
   "execution_count": 3,
   "id": "0f0e906c-c645-4af8-8db8-7b6e58af6379",
   "metadata": {},
   "outputs": [],
   "source": [
    "def save_all_runs(run_list):\n",
    "    all_case1 = []\n",
    "    all_case2 = []\n",
    "    all_case3 = []\n",
    "\n",
    "    for n in run_list:\n",
    "        result = analyze_file(n)\n",
    "        if result:\n",
    "            c1, c2, c3 = result\n",
    "            all_case1.extend(c1)\n",
    "            all_case2.extend(c2)\n",
    "            all_case3.extend(c3)\n",
    "\n",
    "    maxlen = max(len(all_case1), len(all_case2), len(all_case3))\n",
    "    df = pd.DataFrame({\n",
    "        \"Case 1 (|X|,|Y|<2mm)\": all_case1 + [None]*(maxlen - len(all_case1)),\n",
    "        \"Case 2 (X>2mm)\": all_case2 + [None]*(maxlen - len(all_case2)),\n",
    "        \"Case 3 (X<-2mm)\": all_case3 + [None]*(maxlen - len(all_case3)),\n",
    "    })\n",
    "\n",
    "    os.makedirs(\"output\", exist_ok=True)\n",
    "    df.to_csv(\"output/summary_all_mjd.csv\", index=False)\n",
    "    print(\"saved output/summary_all_mjd.csv\")\n"
   ]
  },
  {
   "cell_type": "code",
   "execution_count": null,
   "id": "07e23ae6-d377-4ec2-b3d8-442fc11c3129",
   "metadata": {},
   "outputs": [],
   "source": [
    "if __name__ == \"__main__\":\n",
    "    runs = range(13630,13671)\n",
    "    save_all_runs(runs)"
   ]
  }
 ],
 "metadata": {
  "kernelspec": {
   "display_name": "Python (xlcalibur)",
   "language": "python",
   "name": "xlcalibur"
  },
  "language_info": {
   "codemirror_mode": {
    "name": "ipython",
    "version": 3
   },
   "file_extension": ".py",
   "mimetype": "text/x-python",
   "name": "python",
   "nbconvert_exporter": "python",
   "pygments_lexer": "ipython3",
   "version": "3.9.21"
  }
 },
 "nbformat": 4,
 "nbformat_minor": 5
}
